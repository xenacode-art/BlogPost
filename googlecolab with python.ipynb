{
  "nbformat": 4,
  "nbformat_minor": 0,
  "metadata": {
    "colab": {
      "name": "Untitled0.ipynb",
      "provenance": [],
      "authorship_tag": "ABX9TyNuNm5LyQ/FizfkYd1XGTIS",
      "include_colab_link": true
    },
    "kernelspec": {
      "name": "python3",
      "display_name": "Python 3"
    },
    "language_info": {
      "name": "python"
    }
  },
  "cells": [
    {
      "cell_type": "markdown",
      "metadata": {
        "id": "view-in-github",
        "colab_type": "text"
      },
      "source": [
        "<a href=\"https://colab.research.google.com/github/xenacode-art/BlogPost/blob/master/googlecolab%20with%20python.ipynb\" target=\"_parent\"><img src=\"https://colab.research.google.com/assets/colab-badge.svg\" alt=\"Open In Colab\"/></a>"
      ]
    },
    {
      "cell_type": "code",
      "metadata": {
        "id": "Emz1K0vsrhrt"
      },
      "source": [
        "alpha = 'abcdef'"
      ],
      "execution_count": null,
      "outputs": []
    },
    {
      "cell_type": "code",
      "metadata": {
        "colab": {
          "base_uri": "https://localhost:8080/",
          "height": 35
        },
        "id": "DLyAxG42sDud",
        "outputId": "4d3aeec0-6eb5-4ef4-c2f3-fd2aea83e138"
      },
      "source": [
        "alpha [0:3]"
      ],
      "execution_count": null,
      "outputs": [
        {
          "output_type": "execute_result",
          "data": {
            "application/vnd.google.colaboratory.intrinsic+json": {
              "type": "string"
            },
            "text/plain": [
              "'abc'"
            ]
          },
          "metadata": {
            "tags": []
          },
          "execution_count": 5
        }
      ]
    },
    {
      "cell_type": "code",
      "metadata": {
        "colab": {
          "base_uri": "https://localhost:8080/"
        },
        "id": "25zy9YDRx9ms",
        "outputId": "a4b428dd-03bf-4ae1-dee2-daef97a90673"
      },
      "source": [
        "a =1\n",
        "while a < 10:\n",
        "  print('a is less than 10')\n",
        "  a = a + 1"
      ],
      "execution_count": null,
      "outputs": [
        {
          "output_type": "stream",
          "text": [
            "a is less than 10\n",
            "a is less than 10\n",
            "a is less than 10\n",
            "a is less than 10\n",
            "a is less than 10\n",
            "a is less than 10\n",
            "a is less than 10\n",
            "a is less than 10\n",
            "a is less than 10\n"
          ],
          "name": "stdout"
        }
      ]
    },
    {
      "cell_type": "code",
      "metadata": {
        "colab": {
          "base_uri": "https://localhost:8080/"
        },
        "id": "EHyxY8WpydEp",
        "outputId": "f561bf73-0eb4-4707-8b89-613b5efdbbbb"
      },
      "source": [
        "mylist = [1,2,3,4]\n",
        "for num in mylist:\n",
        "  print(num ** 2)"
      ],
      "execution_count": null,
      "outputs": [
        {
          "output_type": "stream",
          "text": [
            "1\n",
            "4\n",
            "9\n",
            "16\n"
          ],
          "name": "stdout"
        }
      ]
    },
    {
      "cell_type": "code",
      "metadata": {
        "colab": {
          "base_uri": "https://localhost:8080/",
          "height": 35
        },
        "id": "vNUKKZDXtMbw",
        "outputId": "6509b64f-2fd9-41d8-bf36-dcbb5803b2bc"
      },
      "source": [
        "\n",
        "alpha[0:6:3]"
      ],
      "execution_count": null,
      "outputs": [
        {
          "output_type": "execute_result",
          "data": {
            "application/vnd.google.colaboratory.intrinsic+json": {
              "type": "string"
            },
            "text/plain": [
              "'ad'"
            ]
          },
          "metadata": {
            "tags": []
          },
          "execution_count": 10
        }
      ]
    },
    {
      "cell_type": "code",
      "metadata": {
        "colab": {
          "base_uri": "https://localhost:8080/"
        },
        "id": "2noRLjoVvvpF",
        "outputId": "62755b20-e4c6-4cf7-9158-c3a834aa1f81"
      },
      "source": [
        "new_list = [1,2,3,['a','b','c']]\n",
        "new_list[3][0]"
      ],
      "execution_count": null,
      "outputs": [
        {
          "output_type": "execute_result",
          "data": {
            "text/plain": [
              "['a', 'b', 'c']"
            ]
          },
          "metadata": {
            "tags": []
          },
          "execution_count": 13
        }
      ]
    },
    {
      "cell_type": "code",
      "metadata": {
        "colab": {
          "base_uri": "https://localhost:8080/"
        },
        "id": "H8o15DtK0Vjq",
        "outputId": "740d1112-0e11-41bc-aac0-469a83fad33a"
      },
      "source": [
        "new_dict ={\n",
        "    'item1' : 1,\n",
        "    'item2' :2,\n",
        "    'item3' :'Abuja',\n",
        "}\n",
        "\n",
        "\n",
        "new_dict['item3'] = 'kano'\n",
        "\n",
        "\n",
        "new_dict"
      ],
      "execution_count": null,
      "outputs": [
        {
          "output_type": "execute_result",
          "data": {
            "text/plain": [
              "{'item1': 1, 'item2': 2, 'item3': 'kano'}"
            ]
          },
          "metadata": {
            "tags": []
          },
          "execution_count": 17
        }
      ]
    },
    {
      "cell_type": "code",
      "metadata": {
        "id": "uSfs0B3w5p0E"
      },
      "source": [
        "def  change_name(name):\n",
        "   print(\"the passed name is {}\".format(name))\n",
        "   name = \"Harry portter\"\n",
        "   print(\"the new name in this function is {}\".format(name))\n",
        "   return "
      ],
      "execution_count": 54,
      "outputs": []
    },
    {
      "cell_type": "code",
      "metadata": {
        "id": "XQMBFChJ9TB5"
      },
      "source": [
        "name =  \"John\"\n",
        "change_name = (name) "
      ],
      "execution_count": 58,
      "outputs": []
    },
    {
      "cell_type": "code",
      "metadata": {
        "id": "dpgUc_HW9yn2"
      },
      "source": [
        "def change_name(name):\n",
        "  print('the passed name is' + name)\n",
        "  name = \"Harry potter\"\n",
        "  print(\"the new name in this function is \" + name )\n",
        "  return\n",
        "\n",
        "name =  \"John\"\n",
        "change_name = (name) "
      ],
      "execution_count": 59,
      "outputs": []
    }
  ]
}