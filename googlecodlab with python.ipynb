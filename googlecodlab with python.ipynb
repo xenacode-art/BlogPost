{
  "nbformat": 4,
  "nbformat_minor": 0,
  "metadata": {
    "colab": {
      "name": "Untitled1.ipynb",
      "provenance": [],
      "authorship_tag": "ABX9TyNS4NMxtXb+Ua2hkadCeYDR",
      "include_colab_link": true
    },
    "kernelspec": {
      "name": "python3",
      "display_name": "Python 3"
    },
    "language_info": {
      "name": "python"
    }
  },
  "cells": [
    {
      "cell_type": "markdown",
      "metadata": {
        "id": "view-in-github",
        "colab_type": "text"
      },
      "source": [
        "<a href=\"https://colab.research.google.com/github/xenacode-art/BlogPost/blob/master/googlecodlab%20with%20python.ipynb\" target=\"_parent\"><img src=\"https://colab.research.google.com/assets/colab-badge.svg\" alt=\"Open In Colab\"/></a>"
      ]
    },
    {
      "cell_type": "code",
      "metadata": {
        "cellView": "code",
        "id": "VCaX2OJi97nq"
      },
      "source": [
        "#A simple python code\n",
        "# A code to change your name to an assigned new one\n",
        "def change_name(name):\n",
        "  print('the passed name is' + name)\n",
        "  # changing name\n",
        "  name = \"Harry potter\"\n",
        "  print(\"the new name in this function is \" + name )\n",
        "  return\n",
        "# calling the functin\n",
        "name =  \"John\"\n",
        "change_name = (name) "
      ],
      "execution_count": 4,
      "outputs": []
    }
  ]
}