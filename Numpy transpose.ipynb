{
  "nbformat": 4,
  "nbformat_minor": 0,
  "metadata": {
    "colab": {
      "name": "Untitled1.ipynb",
      "provenance": [],
      "authorship_tag": "ABX9TyOY35WO6wdnO3E1DUBxqWiX",
      "include_colab_link": true
    },
    "kernelspec": {
      "name": "python3",
      "display_name": "Python 3"
    },
    "language_info": {
      "name": "python"
    }
  },
  "cells": [
    {
      "cell_type": "markdown",
      "metadata": {
        "id": "view-in-github",
        "colab_type": "text"
      },
      "source": [
        "<a href=\"https://colab.research.google.com/github/xenacode-art/BlogPost/blob/master/Numpy%20transpose.ipynb\" target=\"_parent\"><img src=\"https://colab.research.google.com/assets/colab-badge.svg\" alt=\"Open In Colab\"/></a>"
      ]
    },
    {
      "cell_type": "code",
      "metadata": {
        "cellView": "code",
        "id": "VCaX2OJi97nq"
      },
      "source": [
        "#A simple python code\n",
        "# A code to change your name to an assigned new one\n",
        "def change_name(name):\n",
        "  print('the passed name is' + name)\n",
        "  # changing name\n",
        "  name = \"Harry potter\"\n",
        "  print(\"the new name in this function is \" + name )\n",
        "  return\n",
        "# calling the functin\n",
        "name =  \"John\"\n",
        "change_name = (name) "
      ],
      "execution_count": 4,
      "outputs": []
    },
    {
      "cell_type": "code",
      "metadata": {
        "colab": {
          "base_uri": "https://localhost:8080/"
        },
        "id": "K_w51Nj1AJ8y",
        "outputId": "6069d9b9-1ee3-492c-8185-1e1a7137b470"
      },
      "source": [
        "# Machine learning with python\n",
        "import numpy as np\n",
        "# x = np.array([1,2,3,4,5])\n",
        "# y = np.array([9,10])\n",
        "# print (x)\n",
        "# print('the shape of X is', x.shape) \n",
        "\n",
        "# print(y)\n",
        "# print('the shape of Y is', y.shape)\n",
        "z = np.array([[1,2], [3,4]])\n",
        "print(z)\n",
        "print('the shape of z is ', z.shape)"
      ],
      "execution_count": 7,
      "outputs": [
        {
          "output_type": "stream",
          "text": [
            "[[1 2]\n",
            " [3 4]]\n",
            "the shape of z is  (2, 2)\n"
          ],
          "name": "stdout"
        }
      ]
    },
    {
      "cell_type": "code",
      "metadata": {
        "colab": {
          "base_uri": "https://localhost:8080/"
        },
        "id": "Az-G09BYCtfL",
        "outputId": "d27b91eb-ffcf-42de-c890-01cdedc9565e"
      },
      "source": [
        "w = np.array([[[1,2,3],[4,5,6],[7,8,9],[10,11,12],[13,14,15],[16,17,18],[19,20,21],[22,23,24],[25,26,27]]])\n",
        "print(w,'\\n')\n",
        "print(w.shape)\n",
        "print(w. )"
      ],
      "execution_count": 9,
      "outputs": [
        {
          "output_type": "stream",
          "text": [
            "[[[ 1  2  3]\n",
            "  [ 4  5  6]\n",
            "  [ 7  8  9]\n",
            "  [10 11 12]\n",
            "  [13 14 15]\n",
            "  [16 17 18]\n",
            "  [19 20 21]\n",
            "  [22 23 24]\n",
            "  [25 26 27]]]\n",
            "(1, 9, 3)\n"
          ],
          "name": "stdout"
        }
      ]
    },
    {
      "cell_type": "code",
      "metadata": {
        "id": "_v4KNWWOGU0a"
      },
      "source": [
        "import numpy as np\n",
        "x =np.array([1,2,3],[4,5,6])\n",
        "y =np.array([2,2,3],[3,3,3])\n",
        "z =np.array([1,2,3,])"
      ],
      "execution_count": null,
      "outputs": []
    },
    {
      "cell_type": "code",
      "metadata": {
        "colab": {
          "base_uri": "https://localhost:8080/"
        },
        "id": "JlmK2h6aGqCs",
        "outputId": "b201d400-ccea-42e1-b55f-e4cbd6f7287c"
      },
      "source": [
        "x.T"
      ],
      "execution_count": 10,
      "outputs": [
        {
          "output_type": "execute_result",
          "data": {
            "text/plain": [
              "array([1, 2, 3, 4, 5])"
            ]
          },
          "metadata": {
            "tags": []
          },
          "execution_count": 10
        }
      ]
    }
  ]
}